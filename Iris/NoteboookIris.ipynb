{
 "cells": [
  {
   "cell_type": "code",
   "execution_count": null,
   "metadata": {},
   "outputs": [],
   "source": [
    "!pip install bs4\n",
    "!pip install selenium\n",
    "!pip install requests\n",
    "!pip install lxml\n",
    "!pip install split-folders"
   ]
  },
  {
   "cell_type": "code",
   "execution_count": 1,
   "metadata": {},
   "outputs": [],
   "source": [
    "from selenium.webdriver.common.by import By\n",
    "from bs4 import BeautifulSoup\n",
    "from selenium import webdriver\n",
    "import requests\n",
    "import time\n",
    "import os\n",
    "import splitfolders"
   ]
  },
  {
   "cell_type": "code",
   "execution_count": 2,
   "metadata": {},
   "outputs": [
    {
     "name": "stderr",
     "output_type": "stream",
     "text": [
      "C:\\Users\\Iris Loret\\AppData\\Local\\Temp\\ipykernel_21304\\69507093.py:9: DeprecationWarning: executable_path has been deprecated, please pass in a Service object\n",
      "  driver = webdriver.Chrome(executable_path=chrome_driver_path)\n"
     ]
    }
   ],
   "source": [
    "#look for these words on google:\n",
    "my_keywords = [\"maple+leaf\",\"birch+leaf\",\"oak+leaf\",\"fraxinus+leaf\",\"ilex+leaf\",\"salix+fragilis+leaf\"]\n",
    "\n",
    "chrome_driver_path = \"C:/Users/Iris Loret/Downloads/chromedriver\"\n",
    "\n",
    "#get the url of the images after using google to get the results for the keywords\n",
    "def get_img_urls(keyword):\n",
    "    #use the driver to interact with a web browser\n",
    "    driver = webdriver.Chrome(executable_path=chrome_driver_path)\n",
    "    #for images: tbm=isch\n",
    "    driver.get(f\"https://www.google.com/search?q={keyword}&tbm=isch\")\n",
    "      #handle cookie consent pop-up\n",
    "    try:\n",
    "        accept_all_button = driver.find_element(By.XPATH, \"//button[contains(., 'Accept all')]\")\n",
    "        accept_all_button.click()\n",
    "    except:\n",
    "        pass\n",
    " \n",
    "    #go over the page for 10 times to look for more content\n",
    "    for i in range(10):\n",
    "        driver.execute_script(\"window.scrollTo(0,document.body.scrollHeight)\")\n",
    "        time.sleep(1.0)\n",
    "    soup = BeautifulSoup(driver.page_source, 'lxml')\n",
    "    driver.quit()\n",
    "    #find all img tags in the page source\n",
    "    img_tags = soup.findAll('img', class_='rg_i Q4LuWd')\n",
    "    img_urls = []\n",
    "    #get all the data-src attributes of the img and add that in the list\n",
    "    for img_tag in img_tags:\n",
    "        if img_tag.has_attr('data-src'):\n",
    "            img_urls.append(img_tag['data-src'])\n",
    "    return list(img_urls)\n",
    "\n",
    "#download the image and save to the file system\n",
    "def download_image(url, keyword, index):\n",
    "    response = requests.get(url)\n",
    "    file = open(f\"./{keyword}/{index+1}.jpg\", \"wb\")\n",
    "    file.write(response.content)\n",
    "    file.close()\n",
    "\n",
    "#this will make a directory with the specified name if it doesn't exist\n",
    "def make_keyword_dir(keyword):\n",
    "    cwd = os.getcwd()\n",
    "    dir = os.path.join(cwd, keyword)\n",
    "    if not os.path.exists(dir):\n",
    "        os.mkdir(dir)\n",
    "\n",
    "#for each keyword it will make a directory with that name of the keyword\n",
    "#it gets the urls related to that keyword\n",
    "#goes through the 200 images and will download it\n",
    "for keyword in my_keywords:\n",
    "    make_keyword_dir(keyword)\n",
    "    img_urls = get_img_urls(keyword)\n",
    "    for i in range(min(200,len(img_urls))):\n",
    "        download_image(img_urls[i], keyword, i)\n",
    "\n",
    "\n"
   ]
  },
  {
   "cell_type": "code",
   "execution_count": null,
   "metadata": {},
   "outputs": [],
   "source": [
    "#define the input and output directories\n",
    "input_folder = './datasetIris'\n",
    "output_folder = './finalDatasetIris'\n",
    "\n",
    "#split the images into 80% training and 20% testing sets\n",
    "splitfolders.ratio(input_folder, output_folder, seed=42, ratio=(0.8, 0.2))"
   ]
  }
 ],
 "metadata": {
  "kernelspec": {
   "display_name": "Python 3",
   "language": "python",
   "name": "python3"
  },
  "language_info": {
   "codemirror_mode": {
    "name": "ipython",
    "version": 3
   },
   "file_extension": ".py",
   "mimetype": "text/x-python",
   "name": "python",
   "nbconvert_exporter": "python",
   "pygments_lexer": "ipython3",
   "version": "3.11.0"
  }
 },
 "nbformat": 4,
 "nbformat_minor": 2
}
